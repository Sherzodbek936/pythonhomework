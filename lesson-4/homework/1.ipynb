{
 "cells": [
  {
   "cell_type": "code",
   "execution_count": null,
   "metadata": {},
   "outputs": [
    {
     "data": {
      "text/plain": [
       "[1, 1, 3, 4]"
      ]
     },
     "execution_count": 10,
     "metadata": {},
     "output_type": "execute_result"
    }
   ],
   "source": [
    "#1\n",
    "list1 = [1, 1, 2]\n",
    "list2 = [2, 3, 4]\n",
    "for i in list1:\n",
    "    if i in list2:\n",
    "        list1.remove(i)\n",
    "        list2.remove(i)\n",
    "list0=list1+list2\n",
    "list0"
   ]
  },
  {
   "cell_type": "code",
   "execution_count": null,
   "metadata": {},
   "outputs": [
    {
     "data": {
      "text/plain": [
       "[1, 2, 3, 4, 5, 6]"
      ]
     },
     "execution_count": 7,
     "metadata": {},
     "output_type": "execute_result"
    }
   ],
   "source": [
    "#2\n",
    "list3 = [1, 2, 3]\n",
    "list4 = [4, 5, 6]\n",
    "for i in list3:\n",
    "    if i in list4:\n",
    "        list3.remove(i)\n",
    "        list4.remove(i)\n",
    "list5=list3+list4\n",
    "list5"
   ]
  },
  {
   "cell_type": "code",
   "execution_count": null,
   "metadata": {},
   "outputs": [
    {
     "data": {
      "text/plain": [
       "[2, 2, 5]"
      ]
     },
     "execution_count": 28,
     "metadata": {},
     "output_type": "execute_result"
    }
   ],
   "source": [
    "#3\n",
    "list6 = [1, 1, 2, 3, 4, 2]\n",
    "a=list6.copy()\n",
    "list7 = [1, 3, 4, 5]\n",
    "b=list7.copy()\n",
    "for i in list6:\n",
    "    if i in list7:\n",
    "        a.remove(i)\n",
    "for i in list7:\n",
    "    if i in list6:\n",
    "        b.remove(i)\n",
    "c=a+b\n",
    "c"
   ]
  }
 ],
 "metadata": {
  "kernelspec": {
   "display_name": "Python 3",
   "language": "python",
   "name": "python3"
  },
  "language_info": {
   "codemirror_mode": {
    "name": "ipython",
    "version": 3
   },
   "file_extension": ".py",
   "mimetype": "text/x-python",
   "name": "python",
   "nbconvert_exporter": "python",
   "pygments_lexer": "ipython3",
   "version": "3.10.11"
  }
 },
 "nbformat": 4,
 "nbformat_minor": 2
}

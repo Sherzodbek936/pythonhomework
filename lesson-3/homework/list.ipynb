{
 "cells": [
  {
   "cell_type": "code",
   "execution_count": null,
   "metadata": {},
   "outputs": [
    {
     "data": {
      "text/plain": [
       "3"
      ]
     },
     "metadata": {},
     "output_type": "display_data"
    }
   ],
   "source": [
    "a1=['besh', 'ikki', 'uch', 'apple','5', '5', '5']\n",
    "a1.count('5')"
   ]
  },
  {
   "cell_type": "code",
   "execution_count": null,
   "metadata": {},
   "outputs": [
    {
     "data": {
      "text/plain": [
       "7"
      ]
     },
     "metadata": {},
     "output_type": "display_data"
    }
   ],
   "source": [
    "a2=['besh', 'ikki', 'uch', 'apple','5', '5', '5']\n",
    "len(a2)"
   ]
  },
  {
   "cell_type": "code",
   "execution_count": null,
   "metadata": {},
   "outputs": [
    {
     "data": {
      "text/plain": [
       "'uch'"
      ]
     },
     "metadata": {},
     "output_type": "display_data"
    }
   ],
   "source": [
    "a3=['besh', 'ikki', 'uch', 'apple','5', '5', '5']\n",
    "max(a3)"
   ]
  },
  {
   "cell_type": "code",
   "execution_count": null,
   "metadata": {},
   "outputs": [
    {
     "data": {
      "text/plain": [
       "'5'"
      ]
     },
     "metadata": {},
     "output_type": "display_data"
    }
   ],
   "source": [
    "a4=['besh', 'ikki', 'uch', 'apple','5', '5', '5']\n",
    "min(a4)"
   ]
  },
  {
   "cell_type": "code",
   "execution_count": null,
   "metadata": {},
   "outputs": [
    {
     "data": {
      "text/plain": [
       "True"
      ]
     },
     "metadata": {},
     "output_type": "display_data"
    }
   ],
   "source": [
    "a5=['besh', 'ikki', 'uch', 'apple','5', '5', '5']\n",
    "b5='5'\n",
    "b5 in a5"
   ]
  },
  {
   "cell_type": "code",
   "execution_count": null,
   "metadata": {},
   "outputs": [
    {
     "name": "stdout",
     "output_type": "stream",
     "text": [
      "besh\n"
     ]
    }
   ],
   "source": [
    "a6=['besh', 'ikki', 'uch', 'apple','5', '5', '5']\n",
    "if not bool(a6):\n",
    "    print (\"the list is empty\")\n",
    "else:\n",
    "    print(a6[0])"
   ]
  },
  {
   "cell_type": "code",
   "execution_count": null,
   "metadata": {},
   "outputs": [
    {
     "name": "stdout",
     "output_type": "stream",
     "text": [
      "5\n"
     ]
    }
   ],
   "source": [
    "a7=['besh', 'ikki', 'uch', 'apple','5', '5', '5']\n",
    "if not bool(a7):\n",
    "    print(\"the list is empty\")\n",
    "else:\n",
    "    print(a7[-1])"
   ]
  },
  {
   "cell_type": "code",
   "execution_count": null,
   "metadata": {},
   "outputs": [
    {
     "data": {
      "text/plain": [
       "['besh', 'ikki', 'uch']"
      ]
     },
     "metadata": {},
     "output_type": "display_data"
    }
   ],
   "source": [
    "a8=['besh', 'ikki', 'uch', 'apple','5', '5', '5']\n",
    "b8=a8[:3]\n",
    "b8"
   ]
  },
  {
   "cell_type": "code",
   "execution_count": null,
   "metadata": {},
   "outputs": [
    {
     "data": {
      "text/plain": [
       "['5', '5', '5', 'apple', 'uch', 'ikki', 'besh']"
      ]
     },
     "metadata": {},
     "output_type": "display_data"
    }
   ],
   "source": [
    "a9=['besh', 'ikki', 'uch', 'apple','5', '5', '5']\n",
    "a9.reverse()\n",
    "b9=a9.copy()\n",
    "b9"
   ]
  },
  {
   "cell_type": "code",
   "execution_count": null,
   "metadata": {},
   "outputs": [
    {
     "data": {
      "text/plain": [
       "['5', '5', '5', 'apple', 'besh', 'ikki', 'uch']"
      ]
     },
     "metadata": {},
     "output_type": "display_data"
    }
   ],
   "source": [
    "a10=['besh', 'ikki', 'uch', 'apple','5', '5', '5']\n",
    "a10.sort()\n",
    "b10=a10.copy()\n",
    "b10"
   ]
  },
  {
   "cell_type": "code",
   "execution_count": null,
   "metadata": {},
   "outputs": [
    {
     "data": {
      "text/plain": [
       "['5', 'besh', 'ikki', 'apple', 'uch']"
      ]
     },
     "metadata": {},
     "output_type": "display_data"
    }
   ],
   "source": [
    "a11=['besh', 'ikki', 'uch', 'apple','5', '5', '5']\n",
    "b11=list(set(a11))\n",
    "b11"
   ]
  },
  {
   "cell_type": "code",
   "execution_count": null,
   "metadata": {},
   "outputs": [
    {
     "data": {
      "text/plain": [
       "['besh', 'ikki', 'uch', 'apple', '5', '101010', '5', '5']"
      ]
     },
     "metadata": {},
     "output_type": "display_data"
    }
   ],
   "source": [
    "a12=['besh', 'ikki', 'uch', 'apple','5', '5', '5']\n",
    "a12.insert(5,'101010')\n",
    "a12"
   ]
  },
  {
   "cell_type": "code",
   "execution_count": null,
   "metadata": {},
   "outputs": [
    {
     "data": {
      "text/plain": [
       "4"
      ]
     },
     "metadata": {},
     "output_type": "display_data"
    }
   ],
   "source": [
    "a13=['besh', 'ikki', 'uch', 'apple','5', '5', '5']\n",
    "a13.index('5')"
   ]
  },
  {
   "cell_type": "code",
   "execution_count": null,
   "metadata": {},
   "outputs": [
    {
     "data": {
      "text/plain": [
       "True"
      ]
     },
     "metadata": {},
     "output_type": "display_data"
    }
   ],
   "source": [
    "a14=['besh', 'ikki', 'uch', 'apple','5', '5', '5']\n",
    "bool(a14)"
   ]
  },
  {
   "cell_type": "code",
   "execution_count": null,
   "metadata": {},
   "outputs": [
    {
     "data": {
      "text/plain": [
       "3"
      ]
     },
     "metadata": {},
     "output_type": "display_data"
    }
   ],
   "source": [
    "a15=[5,6,7,12,34,9,5,9]\n",
    "b15=[x%2==0 for x in a15]\n",
    "b15.count(True)"
   ]
  },
  {
   "cell_type": "code",
   "execution_count": null,
   "metadata": {},
   "outputs": [
    {
     "data": {
      "text/plain": [
       "5"
      ]
     },
     "metadata": {},
     "output_type": "display_data"
    }
   ],
   "source": [
    "a16=[5,6,7,12,34,9,5,9]\n",
    "b16=[x%2==1 for x in a16]\n",
    "b16.count(True)"
   ]
  },
  {
   "cell_type": "code",
   "execution_count": null,
   "metadata": {},
   "outputs": [
    {
     "data": {
      "text/plain": [
       "[5, 6, 7, 12, 34, 9, 5, 9, 'besh', 'ikki', 'uch', 'apple', 5, 5, 5]"
      ]
     },
     "metadata": {},
     "output_type": "display_data"
    }
   ],
   "source": [
    "a17=[5,6,7,12,34,9,5,9]\n",
    "b17=['besh', 'ikki', 'uch', 'apple',5, 5, 5]\n",
    "c17=a17+b17\n",
    "c17"
   ]
  },
  {
   "cell_type": "code",
   "execution_count": null,
   "metadata": {},
   "outputs": [
    {
     "data": {
      "text/plain": [
       "True"
      ]
     },
     "metadata": {},
     "output_type": "display_data"
    }
   ],
   "source": [
    "a18=[5,6,7,12,34,9,5,9]\n",
    "b18=[5,6]\n",
    "[x in a18 for x in b18].count(True)==len(b18)"
   ]
  },
  {
   "cell_type": "code",
   "execution_count": null,
   "metadata": {},
   "outputs": [
    {
     "data": {
      "text/plain": [
       "[5, 6, 7, 12, 34, 'string', 5, 9]"
      ]
     },
     "metadata": {},
     "output_type": "display_data"
    }
   ],
   "source": [
    "a19=[5,6,7,12,34,9,5,9]\n",
    "a19.insert(a19.index(9),'string')\n",
    "a19.remove(9)\n",
    "a19\n"
   ]
  },
  {
   "cell_type": "code",
   "execution_count": null,
   "metadata": {},
   "outputs": [
    {
     "data": {
      "text/plain": [
       "12"
      ]
     },
     "metadata": {},
     "output_type": "display_data"
    }
   ],
   "source": [
    "a20=[5,6,7,12,34,9,5,9]\n",
    "a20.remove(max(a20))\n",
    "max(a20)"
   ]
  },
  {
   "cell_type": "code",
   "execution_count": null,
   "metadata": {},
   "outputs": [
    {
     "data": {
      "text/plain": [
       "5"
      ]
     },
     "metadata": {},
     "output_type": "display_data"
    }
   ],
   "source": [
    "a21=[5,6,7,12,34,9,5,9]\n",
    "a21.remove(min(a21))\n",
    "min(a21)"
   ]
  },
  {
   "cell_type": "code",
   "execution_count": null,
   "metadata": {},
   "outputs": [
    {
     "data": {
      "text/plain": [
       "[6, 12, 34]"
      ]
     },
     "metadata": {},
     "output_type": "display_data"
    }
   ],
   "source": [
    "a22=[5,6,7,12,34,9,5,9]\n",
    "b22=list(filter(lambda x: x%2==0, a22))\n",
    "b22"
   ]
  },
  {
   "cell_type": "code",
   "execution_count": null,
   "metadata": {},
   "outputs": [
    {
     "data": {
      "text/plain": [
       "[5, 7, 9, 5, 9]"
      ]
     },
     "metadata": {},
     "output_type": "display_data"
    }
   ],
   "source": [
    "a23=[5,6,7,12,34,9,5,9]\n",
    "b23=list(filter(lambda x: x%2==1, a23))\n",
    "b23"
   ]
  },
  {
   "cell_type": "code",
   "execution_count": null,
   "metadata": {},
   "outputs": [
    {
     "data": {
      "text/plain": [
       "8"
      ]
     },
     "metadata": {},
     "output_type": "display_data"
    }
   ],
   "source": [
    "a24=[5,6,7,12,34,9,5,9]\n",
    "len(a24)\n"
   ]
  },
  {
   "cell_type": "code",
   "execution_count": null,
   "metadata": {},
   "outputs": [
    {
     "data": {
      "text/plain": [
       "[5, 6, 7, 12, 34, 9, 5, 9]"
      ]
     },
     "metadata": {},
     "output_type": "display_data"
    }
   ],
   "source": [
    "a25=[5,6,7,12,34,9,5,9]\n",
    "b25=a25.copy()\n",
    "b25"
   ]
  },
  {
   "cell_type": "code",
   "execution_count": null,
   "metadata": {},
   "outputs": [
    {
     "name": "stdout",
     "output_type": "stream",
     "text": [
      "12 34\n"
     ]
    }
   ],
   "source": [
    "a26=[5,6,7,12,34,9,5,9]\n",
    "b26=len(a26)\n",
    "if b26%2==0:\n",
    "    print(a26[b26//2-1],a26[b26//2])\n",
    "else:\n",
    "    print(a26[b26//2])"
   ]
  },
  {
   "cell_type": "code",
   "execution_count": null,
   "metadata": {},
   "outputs": [
    {
     "data": {
      "text/plain": [
       "34"
      ]
     },
     "metadata": {},
     "output_type": "display_data"
    }
   ],
   "source": [
    "a27=[5,6,7,12,34,9,5,9]\n",
    "b27=a27[1:6]\n",
    "max(b27)"
   ]
  },
  {
   "cell_type": "code",
   "execution_count": null,
   "metadata": {},
   "outputs": [
    {
     "data": {
      "text/plain": [
       "5"
      ]
     },
     "metadata": {},
     "output_type": "display_data"
    }
   ],
   "source": [
    "a28=[5,6,7,12,34,9,5,9]\n",
    "b28=a28[2:7]\n",
    "min(b28)"
   ]
  },
  {
   "cell_type": "code",
   "execution_count": null,
   "metadata": {},
   "outputs": [
    {
     "data": {
      "text/plain": [
       "[5, 6, 7, 12, 34, 5, 9]"
      ]
     },
     "metadata": {},
     "output_type": "display_data"
    }
   ],
   "source": [
    "a29=[5,6,7,12,34,9,5,9]\n",
    "b29=5\n",
    "a29.remove(a29[b29])\n",
    "a29"
   ]
  },
  {
   "cell_type": "code",
   "execution_count": null,
   "metadata": {},
   "outputs": [
    {
     "data": {
      "text/plain": [
       "False"
      ]
     },
     "metadata": {},
     "output_type": "display_data"
    }
   ],
   "source": [
    "a30=[5,6,7,12,34,9,5,9]\n",
    "b30=a30.copy()\n",
    "b30.sort()\n",
    "a30 == b30"
   ]
  },
  {
   "cell_type": "code",
   "execution_count": null,
   "metadata": {},
   "outputs": [],
   "source": [
    "a31=['besh', 'ikki', 'uch', 'apple','5', '5', '5']\n",
    "b31=3\n",
    "a31*b31\n"
   ]
  },
  {
   "cell_type": "code",
   "execution_count": null,
   "metadata": {},
   "outputs": [
    {
     "data": {
      "text/plain": [
       "[5, 5, 6, 7, 9, 9, 12, 31, 32, 34, 54, 87, 90, 656]"
      ]
     },
     "metadata": {},
     "output_type": "display_data"
    }
   ],
   "source": [
    "a32=[54,32,656,31,87,90]\n",
    "b32=[5,6,7,12,34,9,5,9]\n",
    "c32=a32+b32\n",
    "c32.sort()\n",
    "c32\n"
   ]
  },
  {
   "cell_type": "code",
   "execution_count": null,
   "metadata": {},
   "outputs": [
    {
     "name": "stdout",
     "output_type": "stream",
     "text": [
      "0\n",
      "6\n"
     ]
    }
   ],
   "source": [
    "a33=[5,6,7,12,34,9,5,9]\n",
    "b33=5\n",
    "print(a33.index(b33))\n",
    "a33.remove(a33[0])\n",
    "print(a33.index(b33)+1)"
   ]
  },
  {
   "cell_type": "code",
   "execution_count": null,
   "metadata": {},
   "outputs": [
    {
     "data": {
      "text/plain": [
       "[9, 5, 9, 34, 12, 7, 6, 5]"
      ]
     },
     "metadata": {},
     "output_type": "display_data"
    }
   ],
   "source": [
    "a34=[5,6,7,12,34,9,5,9]\n",
    "b34=a34.copy()\n",
    "b34.reverse()\n",
    "b34"
   ]
  },
  {
   "cell_type": "code",
   "execution_count": null,
   "metadata": {},
   "outputs": [
    {
     "data": {
      "text/plain": [
       "[1, 2, 3, 4, 5, 6, 7, 8, 9, 10, 11, 12, 13, 14, 15, 16, 17, 18, 19]"
      ]
     },
     "metadata": {},
     "output_type": "display_data"
    }
   ],
   "source": [
    "a35=list(range(1,20))\n",
    "a35"
   ]
  },
  {
   "cell_type": "code",
   "execution_count": null,
   "metadata": {},
   "outputs": [
    {
     "data": {
      "text/plain": [
       "10"
      ]
     },
     "metadata": {},
     "output_type": "display_data"
    }
   ],
   "source": [
    "a36=[-3,-2,-1,0,1,2,3,4]\n",
    "b36=list(filter(lambda x: x>0,a36))\n",
    "sum(b36)"
   ]
  },
  {
   "cell_type": "code",
   "execution_count": null,
   "metadata": {},
   "outputs": [
    {
     "data": {
      "text/plain": [
       "-6"
      ]
     },
     "metadata": {},
     "output_type": "display_data"
    }
   ],
   "source": [
    "a37=[-3,-2,-1,0,1,2,3,4]\n",
    "b37=list(filter(lambda x: x<0,a37))\n",
    "sum(b37)"
   ]
  },
  {
   "cell_type": "code",
   "execution_count": null,
   "metadata": {},
   "outputs": [
    {
     "data": {
      "text/plain": [
       "False"
      ]
     },
     "metadata": {},
     "output_type": "display_data"
    }
   ],
   "source": [
    "a38=[-3,-2,-1,0,1,2,3,4]\n",
    "b38=a38.copy()\n",
    "b38.reverse()\n",
    "a38 == b38"
   ]
  },
  {
   "cell_type": "code",
   "execution_count": null,
   "metadata": {},
   "outputs": [
    {
     "data": {
      "text/plain": [
       "[[-3, -2, -1], [-1, 0, 1], [2, 3, 4]]"
      ]
     },
     "metadata": {},
     "output_type": "display_data"
    }
   ],
   "source": [
    "a39=[-3,-2,-1,0,1,2,3,4]\n",
    "b39=a39[:3]\n",
    "c39=a39[2:5]\n",
    "d39=a39[5:]\n",
    "e39=[b39,c39,d39]\n",
    "e39\n"
   ]
  },
  {
   "cell_type": "code",
   "execution_count": null,
   "metadata": {},
   "outputs": [
    {
     "data": {
      "text/plain": [
       "[54, 32, 656, 31, 87, 90]"
      ]
     },
     "metadata": {},
     "output_type": "display_data"
    }
   ],
   "source": [
    "a40=[54,32,656,32,54,31,87,90,54,656,31]\n",
    "b40=sorted(set(a40), key=a40.index)\n",
    "b40"
   ]
  }
 ],
 "metadata": {
  "language_info": {
   "name": "python"
  }
 },
 "nbformat": 4,
 "nbformat_minor": 2
}

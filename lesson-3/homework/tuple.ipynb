{
 "cells": [
  {
   "cell_type": "code",
   "execution_count": 1,
   "metadata": {},
   "outputs": [
    {
     "data": {
      "text/plain": [
       "4"
      ]
     },
     "execution_count": 1,
     "metadata": {},
     "output_type": "execute_result"
    }
   ],
   "source": [
    "#1\n",
    "a=('g','ta',5,56,8,9,2,1,3,3,3,3)\n",
    "b=3\n",
    "a.count(b)"
   ]
  },
  {
   "cell_type": "code",
   "execution_count": 19,
   "metadata": {},
   "outputs": [
    {
     "name": "stdout",
     "output_type": "stream",
     "text": [
      "max a1= 9876 max b1= oiuy\n"
     ]
    }
   ],
   "source": [
    "#2\n",
    "a1=(1,4,3,765,9876,432,432,32)\n",
    "b1=('gfds','gfds','iuytr','oiuy')\n",
    "print(\"max a1=\",max(a1), \"max b1=\",max(b1))\n"
   ]
  },
  {
   "cell_type": "code",
   "execution_count": 20,
   "metadata": {},
   "outputs": [
    {
     "name": "stdout",
     "output_type": "stream",
     "text": [
      "min a1= 1 min b1= gfds\n"
     ]
    }
   ],
   "source": [
    "#3\n",
    "print(\"min a1=\",min(a1), \"min b1=\",min(b1))\n"
   ]
  },
  {
   "cell_type": "code",
   "execution_count": 21,
   "metadata": {},
   "outputs": [
    {
     "data": {
      "text/plain": [
       "True"
      ]
     },
     "execution_count": 21,
     "metadata": {},
     "output_type": "execute_result"
    }
   ],
   "source": [
    "#4\n",
    "a=('g','ta',5,56,8,9,2,1,3,3,3,3)\n",
    "b=3\n",
    "b in a"
   ]
  },
  {
   "cell_type": "code",
   "execution_count": 32,
   "metadata": {},
   "outputs": [
    {
     "name": "stdout",
     "output_type": "stream",
     "text": [
      "g\n"
     ]
    }
   ],
   "source": [
    "#5\n",
    "a2=('g','ta',5,56,8,9,2,1,3,3,3,3)\n",
    "if a2:\n",
    "    print(a2[0])\n",
    "else:\n",
    "    print(\"empty\")"
   ]
  },
  {
   "cell_type": "code",
   "execution_count": 34,
   "metadata": {},
   "outputs": [
    {
     "name": "stdout",
     "output_type": "stream",
     "text": [
      "8\n"
     ]
    }
   ],
   "source": [
    "#6\n",
    "a2=('g','ta',5,56,8,9,2,1,3,3,3,3,8)\n",
    "if a2:\n",
    "    print(a2[-1])\n",
    "else:\n",
    "    print(\"empty\")"
   ]
  },
  {
   "cell_type": "code",
   "execution_count": 35,
   "metadata": {},
   "outputs": [
    {
     "data": {
      "text/plain": [
       "13"
      ]
     },
     "execution_count": 35,
     "metadata": {},
     "output_type": "execute_result"
    }
   ],
   "source": [
    "#7\n",
    "len(a2)"
   ]
  },
  {
   "cell_type": "code",
   "execution_count": 38,
   "metadata": {},
   "outputs": [
    {
     "data": {
      "text/plain": [
       "('g', 'ta', 5)"
      ]
     },
     "execution_count": 38,
     "metadata": {},
     "output_type": "execute_result"
    }
   ],
   "source": [
    "#8\n",
    "a2=('g','ta',5,56,8,9,2,1,3,3,3,3,8)\n",
    "b2=a2[:3]\n",
    "b2"
   ]
  },
  {
   "cell_type": "code",
   "execution_count": 40,
   "metadata": {},
   "outputs": [
    {
     "data": {
      "text/plain": [
       "('g', 'ta', 5, 56, 8, 9, 2, 1, 3, 3, 3, 3, 8, 1, 4, 3, 765, 9876, 432, 432, 32)"
      ]
     },
     "execution_count": 40,
     "metadata": {},
     "output_type": "execute_result"
    }
   ],
   "source": [
    "#9\n",
    "a3=('g','ta',5,56,8,9,2,1,3,3,3,3,8)\n",
    "b3=(1,4,3,765,9876,432,432,32)\n",
    "c=a3+b3\n",
    "c"
   ]
  },
  {
   "cell_type": "code",
   "execution_count": 47,
   "metadata": {},
   "outputs": [
    {
     "data": {
      "text/plain": [
       "False"
      ]
     },
     "execution_count": 47,
     "metadata": {},
     "output_type": "execute_result"
    }
   ],
   "source": [
    "#10\n",
    "a4=()\n",
    "bool(a4)\n"
   ]
  },
  {
   "cell_type": "code",
   "execution_count": 54,
   "metadata": {},
   "outputs": [
    {
     "data": {
      "text/plain": [
       "2"
      ]
     },
     "execution_count": 54,
     "metadata": {},
     "output_type": "execute_result"
    }
   ],
   "source": [
    "#11\n",
    "a=('g','ta',5,56,8,9,2,1,3,3,3,3)\n",
    "b=5\n",
    "a.index(b)\n"
   ]
  },
  {
   "cell_type": "code",
   "execution_count": 62,
   "metadata": {},
   "outputs": [
    {
     "data": {
      "text/plain": [
       "765"
      ]
     },
     "execution_count": 62,
     "metadata": {},
     "output_type": "execute_result"
    }
   ],
   "source": [
    "#12\n",
    "a5=(1,4,3,765,9876,432,432,32)\n",
    "b5=list(a5)\n",
    "b5.remove(max(b5))\n",
    "max(b5)"
   ]
  },
  {
   "cell_type": "code",
   "execution_count": 63,
   "metadata": {},
   "outputs": [
    {
     "data": {
      "text/plain": [
       "3"
      ]
     },
     "execution_count": 63,
     "metadata": {},
     "output_type": "execute_result"
    }
   ],
   "source": [
    "#13\n",
    "c5=list(a5)\n",
    "c5.remove(min(c5))\n",
    "min(c5)"
   ]
  },
  {
   "cell_type": "code",
   "execution_count": 65,
   "metadata": {},
   "outputs": [
    {
     "data": {
      "text/plain": [
       "tuple"
      ]
     },
     "execution_count": 65,
     "metadata": {},
     "output_type": "execute_result"
    }
   ],
   "source": [
    "#14\n",
    "a6=('sdfghj',)\n",
    "type(a6)"
   ]
  },
  {
   "cell_type": "code",
   "execution_count": 72,
   "metadata": {},
   "outputs": [
    {
     "data": {
      "text/plain": [
       "(1, 4, 3, 765, 9876, 432, 432, 32)"
      ]
     },
     "execution_count": 72,
     "metadata": {},
     "output_type": "execute_result"
    }
   ],
   "source": [
    "#15\n",
    "a7=[1,4,3,765,9876,432,432,32]\n",
    "b7=tuple(a7)\n",
    "b7"
   ]
  },
  {
   "cell_type": "code",
   "execution_count": 79,
   "metadata": {},
   "outputs": [
    {
     "name": "stdout",
     "output_type": "stream",
     "text": [
      "(1, 4, 3, 765, 9876, 432, 432, 32)\n",
      "(1, 3, 4, 32, 432, 432, 765, 9876)\n"
     ]
    },
    {
     "data": {
      "text/plain": [
       "False"
      ]
     },
     "execution_count": 79,
     "metadata": {},
     "output_type": "execute_result"
    }
   ],
   "source": [
    "#16\n",
    "a8=(1,4,3,765,9876,432,432,32)\n",
    "b8=list(a8)\n",
    "b8.sort()\n",
    "c8=tuple(b8)\n",
    "print(a8)\n",
    "print(c8)\n",
    "a8==c8"
   ]
  },
  {
   "cell_type": "code",
   "execution_count": 85,
   "metadata": {},
   "outputs": [
    {
     "data": {
      "text/plain": [
       "765"
      ]
     },
     "execution_count": 85,
     "metadata": {},
     "output_type": "execute_result"
    }
   ],
   "source": [
    "#17\n",
    "a9=(1,4,3,765,9876,432,432,32)\n",
    "b9=a9[2:4]\n",
    "max(b9)"
   ]
  },
  {
   "cell_type": "code",
   "execution_count": null,
   "metadata": {},
   "outputs": [
    {
     "data": {
      "text/plain": [
       "432"
      ]
     },
     "execution_count": 84,
     "metadata": {},
     "output_type": "execute_result"
    }
   ],
   "source": [
    "#18\n",
    "b9=a9[3:7]\n",
    "min(b9)"
   ]
  },
  {
   "cell_type": "code",
   "execution_count": 89,
   "metadata": {},
   "outputs": [
    {
     "data": {
      "text/plain": [
       "(1, 4, 3, 765, 9876, 432, 32)"
      ]
     },
     "execution_count": 89,
     "metadata": {},
     "output_type": "execute_result"
    }
   ],
   "source": [
    "#19\n",
    "a10=(1,4,3,765,9876,432,432,32)\n",
    "b10=432\n",
    "c10=list(a10)\n",
    "c10.remove(b10)\n",
    "d10=tuple(c10)\n",
    "d10"
   ]
  },
  {
   "cell_type": "code",
   "execution_count": null,
   "metadata": {},
   "outputs": [
    {
     "data": {
      "text/plain": [
       "((4, 3, 765, 9876, 432), (3, 765, 9876, 432, 432, 32), (1, 4, 3, 765, 9876))"
      ]
     },
     "execution_count": 93,
     "metadata": {},
     "output_type": "execute_result"
    }
   ],
   "source": [
    "#20\n",
    "a10=(1,4,3,765,9876,432,432,32)\n",
    "a11=a10[1:6]\n",
    "b11=a10[2:]\n",
    "c11=a10[:5]\n",
    "d11=(a11,b11,c11)\n",
    "d11\n"
   ]
  },
  {
   "cell_type": "code",
   "execution_count": 94,
   "metadata": {},
   "outputs": [
    {
     "data": {
      "text/plain": [
       "(1, 4, 3, 765, 9876, 432, 432, 32, 1, 4, 3, 765, 9876, 432, 432, 32)"
      ]
     },
     "execution_count": 94,
     "metadata": {},
     "output_type": "execute_result"
    }
   ],
   "source": [
    "#21\n",
    "a10=(1,4,3,765,9876,432,432,32)\n",
    "b12=2\n",
    "a10*b12"
   ]
  },
  {
   "cell_type": "code",
   "execution_count": 101,
   "metadata": {},
   "outputs": [
    {
     "data": {
      "text/plain": [
       "(1, 2, 3, 4, 5, 6, 7, 8, 9, 10)"
      ]
     },
     "execution_count": 101,
     "metadata": {},
     "output_type": "execute_result"
    }
   ],
   "source": [
    "#22\n",
    "a13=tuple(range(1,11))\n",
    "a13"
   ]
  },
  {
   "cell_type": "code",
   "execution_count": 103,
   "metadata": {},
   "outputs": [
    {
     "name": "stdout",
     "output_type": "stream",
     "text": [
      "(1, 4, 3, 765, 9876, 432, 432, 32)\n",
      "(32, 432, 432, 9876, 765, 3, 4, 1)\n"
     ]
    }
   ],
   "source": [
    "#23\n",
    "a10=(1,4,3,765,9876,432,432,32)\n",
    "a14=list(a10)\n",
    "a14.reverse()\n",
    "b14=tuple(a14)\n",
    "print(a10)\n",
    "print(b14)"
   ]
  },
  {
   "cell_type": "code",
   "execution_count": 104,
   "metadata": {},
   "outputs": [
    {
     "data": {
      "text/plain": [
       "False"
      ]
     },
     "execution_count": 104,
     "metadata": {},
     "output_type": "execute_result"
    }
   ],
   "source": [
    "#24\n",
    "a10=(1,4,3,765,9876,432,432,32)\n",
    "a15=list(a10)\n",
    "a15.reverse()\n",
    "b15=tuple(a15)\n",
    "b15 == a10"
   ]
  },
  {
   "cell_type": "code",
   "execution_count": 105,
   "metadata": {},
   "outputs": [
    {
     "data": {
      "text/plain": [
       "(54, 32, 656, 31, 87, 90)"
      ]
     },
     "execution_count": 105,
     "metadata": {},
     "output_type": "execute_result"
    }
   ],
   "source": [
    "#25\n",
    "a16=(54,32,656,32,54,31,87,90,54,656,31)\n",
    "b16=list(a16)\n",
    "c16=sorted(set(b16), key=b16.index)\n",
    "d16=tuple(c16)\n",
    "d16"
   ]
  }
 ],
 "metadata": {
  "kernelspec": {
   "display_name": "Python 3",
   "language": "python",
   "name": "python3"
  },
  "language_info": {
   "codemirror_mode": {
    "name": "ipython",
    "version": 3
   },
   "file_extension": ".py",
   "mimetype": "text/x-python",
   "name": "python",
   "nbconvert_exporter": "python",
   "pygments_lexer": "ipython3",
   "version": "3.10.11"
  }
 },
 "nbformat": 4,
 "nbformat_minor": 2
}

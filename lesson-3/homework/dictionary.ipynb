{
 "cells": [
  {
   "cell_type": "code",
   "execution_count": 5,
   "metadata": {},
   "outputs": [
    {
     "name": "stdout",
     "output_type": "stream",
     "text": [
      "11\n"
     ]
    }
   ],
   "source": [
    "#1\n",
    "d={\n",
    "    'apple': 11,\n",
    "    'banana':15\n",
    "}\n",
    "if d:\n",
    "    print(d['apple'])\n",
    "else:\n",
    "    print(\"empty\")"
   ]
  },
  {
   "cell_type": "code",
   "execution_count": 6,
   "metadata": {},
   "outputs": [
    {
     "name": "stdout",
     "output_type": "stream",
     "text": [
      "11\n"
     ]
    }
   ],
   "source": [
    "#2\n",
    "if 'apple' in d:\n",
    "    print(d['apple'])\n",
    "else:\n",
    "    print(\"don't exist\") "
   ]
  },
  {
   "cell_type": "code",
   "execution_count": 11,
   "metadata": {},
   "outputs": [
    {
     "data": {
      "text/plain": [
       "2"
      ]
     },
     "execution_count": 11,
     "metadata": {},
     "output_type": "execute_result"
    }
   ],
   "source": [
    "#3\n",
    "len(d)"
   ]
  },
  {
   "cell_type": "code",
   "execution_count": 12,
   "metadata": {},
   "outputs": [
    {
     "data": {
      "text/plain": [
       "['apple', 'banana']"
      ]
     },
     "execution_count": 12,
     "metadata": {},
     "output_type": "execute_result"
    }
   ],
   "source": [
    "#4\n",
    "list(d.keys())"
   ]
  },
  {
   "cell_type": "code",
   "execution_count": 13,
   "metadata": {},
   "outputs": [
    {
     "data": {
      "text/plain": [
       "[11, 15]"
      ]
     },
     "execution_count": 13,
     "metadata": {},
     "output_type": "execute_result"
    }
   ],
   "source": [
    "#5\n",
    "list(d.values())"
   ]
  },
  {
   "cell_type": "code",
   "execution_count": 16,
   "metadata": {},
   "outputs": [
    {
     "data": {
      "text/plain": [
       "{'apple': 11, 'banana': 15, 'orange': 50, 'melon': 55}"
      ]
     },
     "execution_count": 16,
     "metadata": {},
     "output_type": "execute_result"
    }
   ],
   "source": [
    "#6\n",
    "d1={\n",
    "    'apple': 11,\n",
    "    'banana': 15\n",
    "}\n",
    "d2={\n",
    "    'orange': 50,\n",
    "    'melon': 55\n",
    "}\n",
    "d1.update(d2)\n",
    "d1"
   ]
  },
  {
   "cell_type": "code",
   "execution_count": 22,
   "metadata": {},
   "outputs": [
    {
     "name": "stdout",
     "output_type": "stream",
     "text": [
      "{'banana': 15}\n"
     ]
    }
   ],
   "source": [
    "#7\n",
    "d3={\n",
    "    'apple': 11,\n",
    "    'banana': 15\n",
    "}\n",
    "if 'apple' in d3:\n",
    "    d3.pop('apple')\n",
    "    print(d3)\n",
    "else:\n",
    "    print(\"not exist\")"
   ]
  },
  {
   "cell_type": "code",
   "execution_count": 23,
   "metadata": {},
   "outputs": [
    {
     "data": {
      "text/plain": [
       "{}"
      ]
     },
     "execution_count": 23,
     "metadata": {},
     "output_type": "execute_result"
    }
   ],
   "source": [
    "#8\n",
    "d4={\n",
    "    'apple': 11,\n",
    "    'banana': 15\n",
    "}\n",
    "d4.clear()\n",
    "d4"
   ]
  },
  {
   "cell_type": "code",
   "execution_count": 27,
   "metadata": {},
   "outputs": [
    {
     "name": "stdout",
     "output_type": "stream",
     "text": [
      "{'apple': 11, 'banana': 15}\n"
     ]
    }
   ],
   "source": [
    "#9\n",
    "d5={\n",
    "    'apple': 11,\n",
    "    'banana': 15\n",
    "}\n",
    "if d5:\n",
    "    print(d5)\n",
    "else:\n",
    "    print(\"empty\")"
   ]
  },
  {
   "cell_type": "code",
   "execution_count": 144,
   "metadata": {},
   "outputs": [
    {
     "name": "stdout",
     "output_type": "stream",
     "text": [
      "apple 11\n"
     ]
    }
   ],
   "source": [
    "#10\n",
    "d6={\n",
    "    'apple': 11,\n",
    "    'banana': 15\n",
    "}\n",
    "a='apple'\n",
    "b=d6.get(a)\n",
    "if a in d6:\n",
    "    print(a,b)\n",
    "else:\n",
    "    print(\"not found\")"
   ]
  },
  {
   "cell_type": "code",
   "execution_count": 49,
   "metadata": {},
   "outputs": [
    {
     "data": {
      "text/plain": [
       "{'apple': 17, 'banana': 15}"
      ]
     },
     "execution_count": 49,
     "metadata": {},
     "output_type": "execute_result"
    }
   ],
   "source": [
    "#11\n",
    "d7={\n",
    "    'apple': 11,\n",
    "    'banana': 15\n",
    "}\n",
    "key7='apple'\n",
    "d7.update({key7:17})\n",
    "d7"
   ]
  },
  {
   "cell_type": "code",
   "execution_count": 42,
   "metadata": {},
   "outputs": [
    {
     "data": {
      "text/plain": [
       "2"
      ]
     },
     "execution_count": 42,
     "metadata": {},
     "output_type": "execute_result"
    }
   ],
   "source": [
    "#12\n",
    "d8={\n",
    "    'apple': 11,\n",
    "    'banana': 11,\n",
    "    'orange': 12\n",
    "}\n",
    "list(d8.values()).count(d8['banana'])"
   ]
  },
  {
   "cell_type": "code",
   "execution_count": 67,
   "metadata": {},
   "outputs": [
    {
     "data": {
      "text/plain": [
       "{11: 'apple', 12: 'banana', 13: 'orange'}"
      ]
     },
     "execution_count": 67,
     "metadata": {},
     "output_type": "execute_result"
    }
   ],
   "source": [
    "#13\n",
    "d9={\n",
    "    'apple': 11,\n",
    "    'banana': 12,\n",
    "    'orange': 13\n",
    "}\n",
    "c9={}\n",
    "for (x,y) in d9.items():\n",
    "    c9[y]=x\n",
    "c9"
   ]
  },
  {
   "cell_type": "code",
   "execution_count": 74,
   "metadata": {},
   "outputs": [
    {
     "name": "stdout",
     "output_type": "stream",
     "text": [
      "apple\n",
      "banana\n"
     ]
    }
   ],
   "source": [
    "#14\n",
    "d10={\n",
    "    'apple': 11,\n",
    "    'banana': 11,\n",
    "    'orange': 13\n",
    "}\n",
    "for i in d10.keys():\n",
    "    if d10[i]==11:\n",
    "        print(i)\n"
   ]
  },
  {
   "cell_type": "code",
   "execution_count": 81,
   "metadata": {},
   "outputs": [
    {
     "data": {
      "text/plain": [
       "{'apple': 12, 'orange': 34}"
      ]
     },
     "execution_count": 81,
     "metadata": {},
     "output_type": "execute_result"
    }
   ],
   "source": [
    "#15\n",
    "a11=['apple','orange']\n",
    "b11=[12,34]\n",
    "c11=list(range(len(a11)))\n",
    "d11={}\n",
    "for i in c11:\n",
    "    d11[a11[i]]=b11[i]\n",
    "d11\n"
   ]
  },
  {
   "cell_type": "code",
   "execution_count": 103,
   "metadata": {},
   "outputs": [
    {
     "name": "stdout",
     "output_type": "stream",
     "text": [
      "12 is not dictionary\n",
      "11 is not dictionary\n",
      "13 is not dictionary\n"
     ]
    }
   ],
   "source": [
    "#16\n",
    "d12={\n",
    "    'apple': 12,\n",
    "    'banana': 11,\n",
    "    'orange': 13\n",
    "}\n",
    "for i in d12.values():\n",
    "    if type(i)==dict:\n",
    "        print(\"exist\",i)\n",
    "    else:\n",
    "        print(f\"{i} is not dictionary\")"
   ]
  },
  {
   "cell_type": "code",
   "execution_count": 107,
   "metadata": {},
   "outputs": [
    {
     "name": "stdout",
     "output_type": "stream",
     "text": [
      "{12: 11}\n",
      "{11: 13}\n"
     ]
    }
   ],
   "source": [
    "#17\n",
    "d13={\n",
    "    'apple': {12:11},\n",
    "    'banana': {11:13},\n",
    "    'orange': 13\n",
    "}\n",
    "for i in d13.values():\n",
    "    if type(i) == dict:\n",
    "        print(i)"
   ]
  },
  {
   "cell_type": "code",
   "execution_count": 125,
   "metadata": {},
   "outputs": [
    {
     "data": {
      "text/plain": [
       "False"
      ]
     },
     "execution_count": 125,
     "metadata": {},
     "output_type": "execute_result"
    }
   ],
   "source": [
    "#18\n",
    "from collections import defaultdict\n",
    "d14=defaultdict(bool)\n",
    "d14['a']=12\n",
    "d14['b']=13\n",
    "d14['c']"
   ]
  }
 ],
 "metadata": {
  "kernelspec": {
   "display_name": "Python 3",
   "language": "python",
   "name": "python3"
  },
  "language_info": {
   "codemirror_mode": {
    "name": "ipython",
    "version": 3
   },
   "file_extension": ".py",
   "mimetype": "text/x-python",
   "name": "python",
   "nbconvert_exporter": "python",
   "pygments_lexer": "ipython3",
   "version": "3.10.11"
  }
 },
 "nbformat": 4,
 "nbformat_minor": 2
}

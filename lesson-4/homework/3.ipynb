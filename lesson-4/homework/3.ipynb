{
 "cells": [
  {
   "cell_type": "code",
   "execution_count": 75,
   "metadata": {},
   "outputs": [
    {
     "data": {
      "text/plain": [
       "'hel_lo'"
      ]
     },
     "execution_count": 75,
     "metadata": {},
     "output_type": "execute_result"
    }
   ],
   "source": [
    "txt1='hello'\n",
    "a=''\n",
    "for i in range(len(txt1)):\n",
    "    if i%3==0 and i !=0:\n",
    "        a +='_'\n",
    "    a+=txt1[i]\n",
    "a"
   ]
  },
  {
   "cell_type": "code",
   "execution_count": 62,
   "metadata": {},
   "outputs": [
    {
     "name": "stdout",
     "output_type": "stream",
     "text": [
      "ass_alom\n"
     ]
    }
   ],
   "source": [
    "txt2='assalom'\n",
    "c='aeuio'\n",
    "b='_'\n",
    "for i in range(len(txt2)):\n",
    "    if i%3==0 and i!=0:\n",
    "        if txt2[i-1] in c:\n",
    "            if txt2[i] == txt2[-1]:\n",
    "                break\n",
    "        d=txt2[:i]+b+txt2[i:]\n",
    "        print(d)\n",
    "\n",
    "    "
   ]
  },
  {
   "cell_type": "code",
   "execution_count": null,
   "metadata": {},
   "outputs": [
    {
     "data": {
      "text/plain": [
       "\"['ab', 'ab', 'dab', 'deab', 'defab', 'defg']\""
      ]
     },
     "execution_count": 64,
     "metadata": {},
     "output_type": "execute_result"
    }
   ],
   "source": [
    "txt3='abcabcdabcdeabcdefabcdefg'\n"
   ]
  }
 ],
 "metadata": {
  "kernelspec": {
   "display_name": "Python 3",
   "language": "python",
   "name": "python3"
  },
  "language_info": {
   "codemirror_mode": {
    "name": "ipython",
    "version": 3
   },
   "file_extension": ".py",
   "mimetype": "text/x-python",
   "name": "python",
   "nbconvert_exporter": "python",
   "pygments_lexer": "ipython3",
   "version": "3.10.11"
  }
 },
 "nbformat": 4,
 "nbformat_minor": 2
}
